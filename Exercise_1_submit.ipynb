{
 "cells": [
  {
   "cell_type": "markdown",
   "metadata": {},
   "source": [
    "Here is an exercise I am doing right now. If anyone wants to join me we can go over the results on the weekend.\n",
    "Here we have air pollution data for the city I currently live at - Skopje.\n",
    "The measurements go back ~10 years and include  6 measuring stations. The measurements are taken every hour but there is a lot of missing data and some station are just active the last few years.\n",
    "Higher ratings mean worse air quality.\n",
    "Anything over 50 is considered not good. Anything over 200 is considered hazardous.\n",
    "Let's try to answer the following questions for the last 5 winters, a winter being the period from November including February. We are looking at the years 2013/14 until 2017/18.\n",
    "- Which have been the top 3 worst months overall?\n",
    "- Which measuring station has the highest ratings on average?\n",
    "- Make a pie chart with the average rating for each station\n",
    "- Which is the worst month per measuring station on average? Is it the same for them all?\n",
    "- Make a pie chart showing how many days in total the measurements has been over 50 for each station in the whole period. Same chart for over 200.\n",
    "You will have to do some data cleaning and aggregation (from hourly to daily/monthly)."
   ]
  },
  {
   "cell_type": "code",
   "execution_count": 1,
   "metadata": {},
   "outputs": [],
   "source": [
    "import pandas as pd\n",
    "import numpy as np\n",
    "import matplotlib.pyplot as plt\n",
    "import seaborn as sns\n",
    "%matplotlib inline"
   ]
  },
  {
   "cell_type": "code",
   "execution_count": 2,
   "metadata": {},
   "outputs": [
    {
     "name": "stdout",
     "output_type": "stream",
     "text": [
      "(92246, 7)\n"
     ]
    },
    {
     "data": {
      "text/html": [
       "<div>\n",
       "<style scoped>\n",
       "    .dataframe tbody tr th:only-of-type {\n",
       "        vertical-align: middle;\n",
       "    }\n",
       "\n",
       "    .dataframe tbody tr th {\n",
       "        vertical-align: top;\n",
       "    }\n",
       "\n",
       "    .dataframe thead th {\n",
       "        text-align: right;\n",
       "    }\n",
       "</style>\n",
       "<table border=\"1\" class=\"dataframe\">\n",
       "  <thead>\n",
       "    <tr style=\"text-align: right;\">\n",
       "      <th></th>\n",
       "      <th>A</th>\n",
       "      <th>B</th>\n",
       "      <th>C</th>\n",
       "      <th>D</th>\n",
       "      <th>E</th>\n",
       "      <th>G</th>\n",
       "      <th>time</th>\n",
       "    </tr>\n",
       "  </thead>\n",
       "  <tbody>\n",
       "    <tr>\n",
       "      <th>0</th>\n",
       "      <td>NaN</td>\n",
       "      <td>NaN</td>\n",
       "      <td>NaN</td>\n",
       "      <td>NaN</td>\n",
       "      <td>NaN</td>\n",
       "      <td>120.26</td>\n",
       "      <td>2008-01-01 00:00:00</td>\n",
       "    </tr>\n",
       "    <tr>\n",
       "      <th>1</th>\n",
       "      <td>NaN</td>\n",
       "      <td>NaN</td>\n",
       "      <td>124.84</td>\n",
       "      <td>99.12</td>\n",
       "      <td>NaN</td>\n",
       "      <td>130.95</td>\n",
       "      <td>2008-01-01 01:00:00</td>\n",
       "    </tr>\n",
       "    <tr>\n",
       "      <th>2</th>\n",
       "      <td>NaN</td>\n",
       "      <td>NaN</td>\n",
       "      <td>107.64</td>\n",
       "      <td>98.37</td>\n",
       "      <td>NaN</td>\n",
       "      <td>130.19</td>\n",
       "      <td>2008-01-01 02:00:00</td>\n",
       "    </tr>\n",
       "    <tr>\n",
       "      <th>3</th>\n",
       "      <td>NaN</td>\n",
       "      <td>NaN</td>\n",
       "      <td>107.80</td>\n",
       "      <td>89.33</td>\n",
       "      <td>NaN</td>\n",
       "      <td>121.46</td>\n",
       "      <td>2008-01-01 03:00:00</td>\n",
       "    </tr>\n",
       "    <tr>\n",
       "      <th>4</th>\n",
       "      <td>NaN</td>\n",
       "      <td>NaN</td>\n",
       "      <td>100.65</td>\n",
       "      <td>94.35</td>\n",
       "      <td>NaN</td>\n",
       "      <td>103.99</td>\n",
       "      <td>2008-01-01 04:00:00</td>\n",
       "    </tr>\n",
       "  </tbody>\n",
       "</table>\n",
       "</div>"
      ],
      "text/plain": [
       "    A   B       C      D   E       G                 time\n",
       "0 NaN NaN     NaN    NaN NaN  120.26  2008-01-01 00:00:00\n",
       "1 NaN NaN  124.84  99.12 NaN  130.95  2008-01-01 01:00:00\n",
       "2 NaN NaN  107.64  98.37 NaN  130.19  2008-01-01 02:00:00\n",
       "3 NaN NaN  107.80  89.33 NaN  121.46  2008-01-01 03:00:00\n",
       "4 NaN NaN  100.65  94.35 NaN  103.99  2008-01-01 04:00:00"
      ]
     },
     "execution_count": 2,
     "metadata": {},
     "output_type": "execute_result"
    }
   ],
   "source": [
    "df = pd.read_csv('pm10_data.csv')\n",
    "print(df.shape)\n",
    "df.head()"
   ]
  },
  {
   "cell_type": "code",
   "execution_count": 3,
   "metadata": {},
   "outputs": [
    {
     "name": "stdout",
     "output_type": "stream",
     "text": [
      "<class 'pandas.core.frame.DataFrame'>\n",
      "RangeIndex: 92246 entries, 0 to 92245\n",
      "Data columns (total 7 columns):\n",
      "A       55670 non-null float64\n",
      "B       50826 non-null float64\n",
      "C       64273 non-null float64\n",
      "D       82896 non-null float64\n",
      "E       65715 non-null float64\n",
      "G       76992 non-null float64\n",
      "time    92246 non-null object\n",
      "dtypes: float64(6), object(1)\n",
      "memory usage: 4.9+ MB\n"
     ]
    }
   ],
   "source": [
    "df.info()"
   ]
  },
  {
   "cell_type": "code",
   "execution_count": 4,
   "metadata": {
    "scrolled": true
   },
   "outputs": [
    {
     "data": {
      "text/plain": [
       "A       36576\n",
       "B       41420\n",
       "C       27973\n",
       "D        9350\n",
       "E       26531\n",
       "G       15254\n",
       "time        0\n",
       "dtype: int64"
      ]
     },
     "execution_count": 4,
     "metadata": {},
     "output_type": "execute_result"
    }
   ],
   "source": [
    "df.isnull().sum()"
   ]
  },
  {
   "cell_type": "code",
   "execution_count": 5,
   "metadata": {},
   "outputs": [
    {
     "data": {
      "text/plain": [
       "A       39.650500\n",
       "B       44.901676\n",
       "C       30.324350\n",
       "D       10.135941\n",
       "E       28.761139\n",
       "G       16.536218\n",
       "time     0.000000\n",
       "dtype: float64"
      ]
     },
     "execution_count": 5,
     "metadata": {},
     "output_type": "execute_result"
    }
   ],
   "source": [
    "percent_missing = df.isnull().sum() * 100 / len(df)\n",
    "percent_missing"
   ]
  },
  {
   "cell_type": "code",
   "execution_count": 6,
   "metadata": {
    "scrolled": false
   },
   "outputs": [
    {
     "data": {
      "text/html": [
       "<div>\n",
       "<style scoped>\n",
       "    .dataframe tbody tr th:only-of-type {\n",
       "        vertical-align: middle;\n",
       "    }\n",
       "\n",
       "    .dataframe tbody tr th {\n",
       "        vertical-align: top;\n",
       "    }\n",
       "\n",
       "    .dataframe thead th {\n",
       "        text-align: right;\n",
       "    }\n",
       "</style>\n",
       "<table border=\"1\" class=\"dataframe\">\n",
       "  <thead>\n",
       "    <tr style=\"text-align: right;\">\n",
       "      <th></th>\n",
       "      <th>A</th>\n",
       "      <th>B</th>\n",
       "      <th>C</th>\n",
       "      <th>D</th>\n",
       "      <th>E</th>\n",
       "      <th>G</th>\n",
       "    </tr>\n",
       "  </thead>\n",
       "  <tbody>\n",
       "    <tr>\n",
       "      <th>count</th>\n",
       "      <td>55670.000000</td>\n",
       "      <td>50826.000000</td>\n",
       "      <td>64273.000000</td>\n",
       "      <td>82896.000000</td>\n",
       "      <td>65715.000000</td>\n",
       "      <td>76992.000000</td>\n",
       "    </tr>\n",
       "    <tr>\n",
       "      <th>mean</th>\n",
       "      <td>72.715512</td>\n",
       "      <td>80.485886</td>\n",
       "      <td>67.513649</td>\n",
       "      <td>94.647895</td>\n",
       "      <td>50.960180</td>\n",
       "      <td>76.967020</td>\n",
       "    </tr>\n",
       "    <tr>\n",
       "      <th>std</th>\n",
       "      <td>78.001704</td>\n",
       "      <td>89.496704</td>\n",
       "      <td>75.114049</td>\n",
       "      <td>116.532024</td>\n",
       "      <td>51.317925</td>\n",
       "      <td>83.102787</td>\n",
       "    </tr>\n",
       "    <tr>\n",
       "      <th>min</th>\n",
       "      <td>0.000000</td>\n",
       "      <td>0.060000</td>\n",
       "      <td>0.000000</td>\n",
       "      <td>0.010000</td>\n",
       "      <td>0.053400</td>\n",
       "      <td>0.000000</td>\n",
       "    </tr>\n",
       "    <tr>\n",
       "      <th>25%</th>\n",
       "      <td>30.896075</td>\n",
       "      <td>27.490000</td>\n",
       "      <td>26.367200</td>\n",
       "      <td>31.514150</td>\n",
       "      <td>22.420000</td>\n",
       "      <td>29.470000</td>\n",
       "    </tr>\n",
       "    <tr>\n",
       "      <th>50%</th>\n",
       "      <td>45.912900</td>\n",
       "      <td>55.434950</td>\n",
       "      <td>42.420900</td>\n",
       "      <td>54.200000</td>\n",
       "      <td>35.360000</td>\n",
       "      <td>51.150000</td>\n",
       "    </tr>\n",
       "    <tr>\n",
       "      <th>75%</th>\n",
       "      <td>81.783725</td>\n",
       "      <td>99.607500</td>\n",
       "      <td>77.402000</td>\n",
       "      <td>105.622500</td>\n",
       "      <td>59.261950</td>\n",
       "      <td>91.870000</td>\n",
       "    </tr>\n",
       "    <tr>\n",
       "      <th>max</th>\n",
       "      <td>1093.080000</td>\n",
       "      <td>996.758000</td>\n",
       "      <td>1218.630000</td>\n",
       "      <td>994.319000</td>\n",
       "      <td>726.920000</td>\n",
       "      <td>997.229000</td>\n",
       "    </tr>\n",
       "  </tbody>\n",
       "</table>\n",
       "</div>"
      ],
      "text/plain": [
       "                  A             B             C             D             E  \\\n",
       "count  55670.000000  50826.000000  64273.000000  82896.000000  65715.000000   \n",
       "mean      72.715512     80.485886     67.513649     94.647895     50.960180   \n",
       "std       78.001704     89.496704     75.114049    116.532024     51.317925   \n",
       "min        0.000000      0.060000      0.000000      0.010000      0.053400   \n",
       "25%       30.896075     27.490000     26.367200     31.514150     22.420000   \n",
       "50%       45.912900     55.434950     42.420900     54.200000     35.360000   \n",
       "75%       81.783725     99.607500     77.402000    105.622500     59.261950   \n",
       "max     1093.080000    996.758000   1218.630000    994.319000    726.920000   \n",
       "\n",
       "                  G  \n",
       "count  76992.000000  \n",
       "mean      76.967020  \n",
       "std       83.102787  \n",
       "min        0.000000  \n",
       "25%       29.470000  \n",
       "50%       51.150000  \n",
       "75%       91.870000  \n",
       "max      997.229000  "
      ]
     },
     "execution_count": 6,
     "metadata": {},
     "output_type": "execute_result"
    }
   ],
   "source": [
    "df.describe()"
   ]
  },
  {
   "cell_type": "code",
   "execution_count": 7,
   "metadata": {},
   "outputs": [
    {
     "data": {
      "text/html": [
       "<div>\n",
       "<style scoped>\n",
       "    .dataframe tbody tr th:only-of-type {\n",
       "        vertical-align: middle;\n",
       "    }\n",
       "\n",
       "    .dataframe tbody tr th {\n",
       "        vertical-align: top;\n",
       "    }\n",
       "\n",
       "    .dataframe thead th {\n",
       "        text-align: right;\n",
       "    }\n",
       "</style>\n",
       "<table border=\"1\" class=\"dataframe\">\n",
       "  <thead>\n",
       "    <tr style=\"text-align: right;\">\n",
       "      <th></th>\n",
       "      <th>A</th>\n",
       "      <th>B</th>\n",
       "      <th>C</th>\n",
       "      <th>D</th>\n",
       "      <th>E</th>\n",
       "      <th>G</th>\n",
       "      <th>year</th>\n",
       "      <th>month</th>\n",
       "      <th>day</th>\n",
       "      <th>hour</th>\n",
       "    </tr>\n",
       "  </thead>\n",
       "  <tbody>\n",
       "    <tr>\n",
       "      <th>0</th>\n",
       "      <td>NaN</td>\n",
       "      <td>NaN</td>\n",
       "      <td>NaN</td>\n",
       "      <td>NaN</td>\n",
       "      <td>NaN</td>\n",
       "      <td>120.26</td>\n",
       "      <td>2008</td>\n",
       "      <td>1</td>\n",
       "      <td>0</td>\n",
       "      <td>0</td>\n",
       "    </tr>\n",
       "    <tr>\n",
       "      <th>1</th>\n",
       "      <td>NaN</td>\n",
       "      <td>NaN</td>\n",
       "      <td>124.84</td>\n",
       "      <td>99.12</td>\n",
       "      <td>NaN</td>\n",
       "      <td>130.95</td>\n",
       "      <td>2008</td>\n",
       "      <td>1</td>\n",
       "      <td>1</td>\n",
       "      <td>1</td>\n",
       "    </tr>\n",
       "    <tr>\n",
       "      <th>2</th>\n",
       "      <td>NaN</td>\n",
       "      <td>NaN</td>\n",
       "      <td>107.64</td>\n",
       "      <td>98.37</td>\n",
       "      <td>NaN</td>\n",
       "      <td>130.19</td>\n",
       "      <td>2008</td>\n",
       "      <td>1</td>\n",
       "      <td>2</td>\n",
       "      <td>2</td>\n",
       "    </tr>\n",
       "    <tr>\n",
       "      <th>3</th>\n",
       "      <td>NaN</td>\n",
       "      <td>NaN</td>\n",
       "      <td>107.80</td>\n",
       "      <td>89.33</td>\n",
       "      <td>NaN</td>\n",
       "      <td>121.46</td>\n",
       "      <td>2008</td>\n",
       "      <td>1</td>\n",
       "      <td>3</td>\n",
       "      <td>3</td>\n",
       "    </tr>\n",
       "    <tr>\n",
       "      <th>4</th>\n",
       "      <td>NaN</td>\n",
       "      <td>NaN</td>\n",
       "      <td>100.65</td>\n",
       "      <td>94.35</td>\n",
       "      <td>NaN</td>\n",
       "      <td>103.99</td>\n",
       "      <td>2008</td>\n",
       "      <td>1</td>\n",
       "      <td>4</td>\n",
       "      <td>4</td>\n",
       "    </tr>\n",
       "  </tbody>\n",
       "</table>\n",
       "</div>"
      ],
      "text/plain": [
       "    A   B       C      D   E       G  year  month  day  hour\n",
       "0 NaN NaN     NaN    NaN NaN  120.26  2008      1    0     0\n",
       "1 NaN NaN  124.84  99.12 NaN  130.95  2008      1    1     1\n",
       "2 NaN NaN  107.64  98.37 NaN  130.19  2008      1    2     2\n",
       "3 NaN NaN  107.80  89.33 NaN  121.46  2008      1    3     3\n",
       "4 NaN NaN  100.65  94.35 NaN  103.99  2008      1    4     4"
      ]
     },
     "execution_count": 7,
     "metadata": {},
     "output_type": "execute_result"
    }
   ],
   "source": [
    "# Make columns for year and month\n",
    "df['time'] = pd.to_datetime(df.time)\n",
    "df['year'] = df.time.dt.year\n",
    "df['month'] = df.time.dt.month\n",
    "df['day'] = df.time.dt.hour\n",
    "df['hour'] = df.time.dt.hour\n",
    "\n",
    "# Drop the time column\n",
    "df.drop('time', axis=1, inplace=True)\n",
    "df.head()"
   ]
  },
  {
   "cell_type": "code",
   "execution_count": 8,
   "metadata": {},
   "outputs": [
    {
     "name": "stderr",
     "output_type": "stream",
     "text": [
      "C:\\Users\\Jones\\Anaconda3\\lib\\site-packages\\pandas\\core\\indexing.py:1472: FutureWarning: \n",
      "Passing list-likes to .loc or [] with any missing label will raise\n",
      "KeyError in the future, you can use .reindex() as an alternative.\n",
      "\n",
      "See the documentation here:\n",
      "https://pandas.pydata.org/pandas-docs/stable/indexing.html#deprecate-loc-reindex-listlike\n",
      "  return self._getitem_tuple(key)\n"
     ]
    }
   ],
   "source": [
    "reshape_df = pd.melt(df, id_vars = ['year', 'month', 'day', 'hour'],\n",
    "               value_vars = ['A', 'B', 'C', 'D', 'E', 'F', 'G'],\n",
    "               var_name = 'sectors')"
   ]
  },
  {
   "cell_type": "code",
   "execution_count": 9,
   "metadata": {},
   "outputs": [
    {
     "data": {
      "text/html": [
       "<div>\n",
       "<style scoped>\n",
       "    .dataframe tbody tr th:only-of-type {\n",
       "        vertical-align: middle;\n",
       "    }\n",
       "\n",
       "    .dataframe tbody tr th {\n",
       "        vertical-align: top;\n",
       "    }\n",
       "\n",
       "    .dataframe thead th {\n",
       "        text-align: right;\n",
       "    }\n",
       "</style>\n",
       "<table border=\"1\" class=\"dataframe\">\n",
       "  <thead>\n",
       "    <tr style=\"text-align: right;\">\n",
       "      <th></th>\n",
       "      <th>year</th>\n",
       "      <th>month</th>\n",
       "      <th>day</th>\n",
       "      <th>hour</th>\n",
       "      <th>sectors</th>\n",
       "      <th>value</th>\n",
       "    </tr>\n",
       "  </thead>\n",
       "  <tbody>\n",
       "    <tr>\n",
       "      <th>266873</th>\n",
       "      <td>2017</td>\n",
       "      <td>2</td>\n",
       "      <td>22</td>\n",
       "      <td>22</td>\n",
       "      <td>C</td>\n",
       "      <td>1218.63</td>\n",
       "    </tr>\n",
       "    <tr>\n",
       "      <th>266874</th>\n",
       "      <td>2017</td>\n",
       "      <td>2</td>\n",
       "      <td>23</td>\n",
       "      <td>23</td>\n",
       "      <td>C</td>\n",
       "      <td>1113.36</td>\n",
       "    </tr>\n",
       "    <tr>\n",
       "      <th>266872</th>\n",
       "      <td>2017</td>\n",
       "      <td>2</td>\n",
       "      <td>21</td>\n",
       "      <td>21</td>\n",
       "      <td>C</td>\n",
       "      <td>1105.87</td>\n",
       "    </tr>\n",
       "    <tr>\n",
       "      <th>54091</th>\n",
       "      <td>2013</td>\n",
       "      <td>12</td>\n",
       "      <td>1</td>\n",
       "      <td>1</td>\n",
       "      <td>A</td>\n",
       "      <td>1093.08</td>\n",
       "    </tr>\n",
       "    <tr>\n",
       "      <th>266875</th>\n",
       "      <td>2017</td>\n",
       "      <td>2</td>\n",
       "      <td>0</td>\n",
       "      <td>0</td>\n",
       "      <td>C</td>\n",
       "      <td>1071.15</td>\n",
       "    </tr>\n",
       "  </tbody>\n",
       "</table>\n",
       "</div>"
      ],
      "text/plain": [
       "        year  month  day  hour sectors    value\n",
       "266873  2017      2   22    22       C  1218.63\n",
       "266874  2017      2   23    23       C  1113.36\n",
       "266872  2017      2   21    21       C  1105.87\n",
       "54091   2013     12    1     1       A  1093.08\n",
       "266875  2017      2    0     0       C  1071.15"
      ]
     },
     "execution_count": 9,
     "metadata": {},
     "output_type": "execute_result"
    }
   ],
   "source": [
    "reshape_df.sort_values('value', ascending=False).head()"
   ]
  },
  {
   "cell_type": "markdown",
   "metadata": {},
   "source": [
    "The top 5 worst index values from sectors in year, month, day, hour"
   ]
  },
  {
   "cell_type": "code",
   "execution_count": 10,
   "metadata": {},
   "outputs": [
    {
     "data": {
      "text/plain": [
       "12    32\n",
       "10     7\n",
       "2      5\n",
       "11     4\n",
       "1      2\n",
       "Name: month, dtype: int64"
      ]
     },
     "execution_count": 10,
     "metadata": {},
     "output_type": "execute_result"
    }
   ],
   "source": [
    "reshape_df.sort_values('value', ascending=False).head(50).month.value_counts()"
   ]
  },
  {
   "cell_type": "markdown",
   "metadata": {},
   "source": [
    "The top 3 worst month overall from top 50 worst index values"
   ]
  },
  {
   "cell_type": "code",
   "execution_count": 11,
   "metadata": {},
   "outputs": [
    {
     "data": {
      "text/html": [
       "<div>\n",
       "<style scoped>\n",
       "    .dataframe tbody tr th:only-of-type {\n",
       "        vertical-align: middle;\n",
       "    }\n",
       "\n",
       "    .dataframe tbody tr th {\n",
       "        vertical-align: top;\n",
       "    }\n",
       "\n",
       "    .dataframe thead th {\n",
       "        text-align: right;\n",
       "    }\n",
       "</style>\n",
       "<table border=\"1\" class=\"dataframe\">\n",
       "  <thead>\n",
       "    <tr style=\"text-align: right;\">\n",
       "      <th></th>\n",
       "      <th>value</th>\n",
       "    </tr>\n",
       "    <tr>\n",
       "      <th>sectors</th>\n",
       "      <th></th>\n",
       "    </tr>\n",
       "  </thead>\n",
       "  <tbody>\n",
       "    <tr>\n",
       "      <th>D</th>\n",
       "      <td>94.647895</td>\n",
       "    </tr>\n",
       "    <tr>\n",
       "      <th>B</th>\n",
       "      <td>80.485886</td>\n",
       "    </tr>\n",
       "    <tr>\n",
       "      <th>G</th>\n",
       "      <td>76.967020</td>\n",
       "    </tr>\n",
       "    <tr>\n",
       "      <th>A</th>\n",
       "      <td>72.715512</td>\n",
       "    </tr>\n",
       "    <tr>\n",
       "      <th>C</th>\n",
       "      <td>67.513649</td>\n",
       "    </tr>\n",
       "    <tr>\n",
       "      <th>E</th>\n",
       "      <td>50.960180</td>\n",
       "    </tr>\n",
       "  </tbody>\n",
       "</table>\n",
       "</div>"
      ],
      "text/plain": [
       "             value\n",
       "sectors           \n",
       "D        94.647895\n",
       "B        80.485886\n",
       "G        76.967020\n",
       "A        72.715512\n",
       "C        67.513649\n",
       "E        50.960180"
      ]
     },
     "execution_count": 11,
     "metadata": {},
     "output_type": "execute_result"
    }
   ],
   "source": [
    "reshape_df.loc[reshape_df.value.notna()].pivot_table(index='sectors',\n",
    "                                                    values='value',\n",
    "                                                    aggfunc=np.mean).sort_values('value', ascending=False)"
   ]
  },
  {
   "cell_type": "markdown",
   "metadata": {},
   "source": [
    "The highest ratings on average is sector D"
   ]
  },
  {
   "cell_type": "code",
   "execution_count": 12,
   "metadata": {},
   "outputs": [
    {
     "data": {
      "text/plain": [
       "Text(0.5, 1.0, 'Average rating for each station')"
      ]
     },
     "execution_count": 12,
     "metadata": {},
     "output_type": "execute_result"
    },
    {
     "data": {
      "image/png": "[encoded data removed]",
      "text/plain": [
       "<Figure size 432x288 with 1 Axes>"
      ]
     },
     "metadata": {},
     "output_type": "display_data"
    }
   ],
   "source": [
    "average_each_station = reshape_df.loc[reshape_df.value.notna()].pivot_table(index='sectors',\n",
    "                                                    values='value',\n",
    "                                                    aggfunc=np.mean)\n",
    "colors = ['gold', 'yellowgreen', 'lightcoral', 'lightskyblue', 'lightsalmon', 'violet']\n",
    "fig, ax = plt.subplots()\n",
    "ax.pie(average_each_station.value.astype('int32'), labels=average_each_station.index, autopct='%1.1f%%', colors=colors)\n",
    "plt.axis('equal')\n",
    "plt.title('Average rating for each station')"
   ]
  },
  {
   "cell_type": "code",
   "execution_count": 13,
   "metadata": {},
   "outputs": [
    {
     "data": {
      "text/html": [
       "<div>\n",
       "<style scoped>\n",
       "    .dataframe tbody tr th:only-of-type {\n",
       "        vertical-align: middle;\n",
       "    }\n",
       "\n",
       "    .dataframe tbody tr th {\n",
       "        vertical-align: top;\n",
       "    }\n",
       "\n",
       "    .dataframe thead th {\n",
       "        text-align: right;\n",
       "    }\n",
       "</style>\n",
       "<table border=\"1\" class=\"dataframe\">\n",
       "  <thead>\n",
       "    <tr style=\"text-align: right;\">\n",
       "      <th></th>\n",
       "      <th></th>\n",
       "      <th>value</th>\n",
       "    </tr>\n",
       "    <tr>\n",
       "      <th>sectors</th>\n",
       "      <th>month</th>\n",
       "      <th></th>\n",
       "    </tr>\n",
       "  </thead>\n",
       "  <tbody>\n",
       "    <tr>\n",
       "      <th rowspan=\"3\" valign=\"top\">D</th>\n",
       "      <th>12</th>\n",
       "      <td>215.678519</td>\n",
       "    </tr>\n",
       "    <tr>\n",
       "      <th>1</th>\n",
       "      <td>183.675070</td>\n",
       "    </tr>\n",
       "    <tr>\n",
       "      <th>11</th>\n",
       "      <td>165.698805</td>\n",
       "    </tr>\n",
       "    <tr>\n",
       "      <th>A</th>\n",
       "      <th>12</th>\n",
       "      <td>163.774424</td>\n",
       "    </tr>\n",
       "    <tr>\n",
       "      <th>B</th>\n",
       "      <th>12</th>\n",
       "      <td>155.390750</td>\n",
       "    </tr>\n",
       "    <tr>\n",
       "      <th>C</th>\n",
       "      <th>12</th>\n",
       "      <td>153.020012</td>\n",
       "    </tr>\n",
       "    <tr>\n",
       "      <th rowspan=\"2\" valign=\"top\">G</th>\n",
       "      <th>12</th>\n",
       "      <td>149.625671</td>\n",
       "    </tr>\n",
       "    <tr>\n",
       "      <th>1</th>\n",
       "      <td>147.126292</td>\n",
       "    </tr>\n",
       "    <tr>\n",
       "      <th>B</th>\n",
       "      <th>1</th>\n",
       "      <td>142.780938</td>\n",
       "    </tr>\n",
       "    <tr>\n",
       "      <th>A</th>\n",
       "      <th>1</th>\n",
       "      <td>132.681498</td>\n",
       "    </tr>\n",
       "    <tr>\n",
       "      <th>D</th>\n",
       "      <th>2</th>\n",
       "      <td>128.685839</td>\n",
       "    </tr>\n",
       "    <tr>\n",
       "      <th>C</th>\n",
       "      <th>1</th>\n",
       "      <td>124.740618</td>\n",
       "    </tr>\n",
       "    <tr>\n",
       "      <th>B</th>\n",
       "      <th>11</th>\n",
       "      <td>111.816451</td>\n",
       "    </tr>\n",
       "    <tr>\n",
       "      <th>G</th>\n",
       "      <th>11</th>\n",
       "      <td>111.446674</td>\n",
       "    </tr>\n",
       "    <tr>\n",
       "      <th>A</th>\n",
       "      <th>11</th>\n",
       "      <td>105.008174</td>\n",
       "    </tr>\n",
       "    <tr>\n",
       "      <th>C</th>\n",
       "      <th>11</th>\n",
       "      <td>101.447115</td>\n",
       "    </tr>\n",
       "    <tr>\n",
       "      <th>G</th>\n",
       "      <th>2</th>\n",
       "      <td>98.667196</td>\n",
       "    </tr>\n",
       "    <tr>\n",
       "      <th>E</th>\n",
       "      <th>1</th>\n",
       "      <td>93.905443</td>\n",
       "    </tr>\n",
       "    <tr>\n",
       "      <th>B</th>\n",
       "      <th>2</th>\n",
       "      <td>92.262979</td>\n",
       "    </tr>\n",
       "    <tr>\n",
       "      <th>E</th>\n",
       "      <th>12</th>\n",
       "      <td>86.992091</td>\n",
       "    </tr>\n",
       "  </tbody>\n",
       "</table>\n",
       "</div>"
      ],
      "text/plain": [
       "                    value\n",
       "sectors month            \n",
       "D       12     215.678519\n",
       "        1      183.675070\n",
       "        11     165.698805\n",
       "A       12     163.774424\n",
       "B       12     155.390750\n",
       "C       12     153.020012\n",
       "G       12     149.625671\n",
       "        1      147.126292\n",
       "B       1      142.780938\n",
       "A       1      132.681498\n",
       "D       2      128.685839\n",
       "C       1      124.740618\n",
       "B       11     111.816451\n",
       "G       11     111.446674\n",
       "A       11     105.008174\n",
       "C       11     101.447115\n",
       "G       2       98.667196\n",
       "E       1       93.905443\n",
       "B       2       92.262979\n",
       "E       12      86.992091"
      ]
     },
     "execution_count": 13,
     "metadata": {},
     "output_type": "execute_result"
    }
   ],
   "source": [
    "reshape_df.loc[reshape_df.value.notna()].pivot_table(index=['sectors', 'month'],\n",
    "                                                    values='value',\n",
    "                                                    aggfunc=np.mean).sort_values('value', ascending=False).head(20)"
   ]
  },
  {
   "cell_type": "markdown",
   "metadata": {},
   "source": [
    "Sector D in the month of 12 is the worst measuring on average"
   ]
  },
  {
   "cell_type": "code",
   "execution_count": 14,
   "metadata": {},
   "outputs": [
    {
     "data": {
      "text/plain": [
       "Text(0.5, 1.0, 'Days in total of over 50 for each station')"
      ]
     },
     "execution_count": 14,
     "metadata": {},
     "output_type": "execute_result"
    },
    {
     "data": {
      "image/png": "[encoded data removed]",
      "text/plain": [
       "<Figure size 432x288 with 1 Axes>"
      ]
     },
     "metadata": {},
     "output_type": "display_data"
    }
   ],
   "source": [
    "total_hourly = reshape_df.loc[reshape_df.value > 50, ['hour', 'sectors', 'value']].pivot_table(index='sectors', values='hour', aggfunc=np.sum)\n",
    "total_hourly['days'] = total_hourly.hour / 24\n",
    "total_hourly\n",
    "total = sum(total_hourly.days)\n",
    "fig, ax = plt.subplots()\n",
    "ax.pie(total_hourly.days.astype('int32'), labels=total_hourly.index, colors=colors, autopct=lambda p: '{:.0f}'.format(p * total / 100))\n",
    "plt.axis('equal')\n",
    "plt.title('Days in total of over 50 for each station')"
   ]
  },
  {
   "cell_type": "code",
   "execution_count": 15,
   "metadata": {},
   "outputs": [
    {
     "data": {
      "text/plain": [
       "Text(0.5, 1.0, 'Days in total of over 200 for each station')"
      ]
     },
     "execution_count": 15,
     "metadata": {},
     "output_type": "execute_result"
    },
    {
     "data": {
      "image/png": "[encoded data removed]",
      "text/plain": [
       "<Figure size 432x288 with 1 Axes>"
      ]
     },
     "metadata": {},
     "output_type": "display_data"
    }
   ],
   "source": [
    "total_hourly = reshape_df.loc[reshape_df.value > 200, ['hour', 'sectors', 'value']].pivot_table(index='sectors', values='hour', aggfunc=np.sum)\n",
    "total_hourly['days'] = total_hourly.hour / 24\n",
    "total_hourly\n",
    "total = sum(total_hourly.days)\n",
    "fig, ax = plt.subplots()\n",
    "ax.pie(total_hourly.days.astype('int32'), labels=total_hourly.index, colors=colors, autopct=lambda p: '{:.0f}'.format(p * total / 100))\n",
    "plt.axis('equal')\n",
    "plt.title('Days in total of over 200 for each station')"
   ]
  },
  {
   "cell_type": "code",
   "execution_count": null,
   "metadata": {},
   "outputs": [],
   "source": []
  }
 ],
 "metadata": {
  "kernelspec": {
   "display_name": "Python 3",
   "language": "python",
   "name": "python3"
  },
  "language_info": {
   "codemirror_mode": {
    "name": "ipython",
    "version": 3
   },
   "file_extension": ".py",
   "mimetype": "text/x-python",
   "name": "python",
   "nbconvert_exporter": "python",
   "pygments_lexer": "ipython3",
   "version": "3.7.2"
  }
 },
 "nbformat": 4,
 "nbformat_minor": 2
}
